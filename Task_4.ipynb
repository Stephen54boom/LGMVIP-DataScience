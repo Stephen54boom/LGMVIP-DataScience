{
  "nbformat": 4,
  "nbformat_minor": 0,
  "metadata": {
    "colab": {
      "name": "Task-4.ipynb",
      "provenance": [],
      "collapsed_sections": [
        "HdmPHlOjU2Gw"
      ]
    },
    "kernelspec": {
      "name": "python3",
      "display_name": "Python 3"
    },
    "language_info": {
      "name": "python"
    }
  },
  "cells": [
    {
      "cell_type": "markdown",
      "metadata": {
        "id": "RfVZ9ptrQaLA"
      },
      "source": [
        "# **Let's Grow More - Data Science Internship**\n",
        "\n",
        "**Task-4 : Exploratory Data Analysis on Dataset - Terrorism**\n",
        "\n",
        "---\n",
        "**Description**:\n",
        "\n",
        "As a security/defense analyst, try to find out the hot zone of terrorism.\n",
        "\n",
        "You can choose any of the tool of your choice; \n",
        "\n",
        "(Python/R/Tableau/PowerBI/Excel/SAP/SAS)\n",
        "\n",
        "**Dataset-Link:**\n",
        "https://bit.ly/2TK5Xn5"
      ]
    },
    {
      "cell_type": "code",
      "metadata": {
        "id": "HePCEYrz-dED"
      },
      "source": [
        "import pandas as pd"
      ],
      "execution_count": 83,
      "outputs": []
    },
    {
      "cell_type": "code",
      "metadata": {
        "colab": {
          "base_uri": "https://localhost:8080/"
        },
        "id": "8AOdzGPCrSZl",
        "outputId": "2ef6040c-c958-43a0-fb8c-1449e631206f"
      },
      "source": [
        "df = pd.read_csv('globalterrorismdb_07181dist.csv', encoding='latin1')"
      ],
      "execution_count": 84,
      "outputs": [
        {
          "output_type": "stream",
          "name": "stderr",
          "text": [
            "/usr/local/lib/python3.7/dist-packages/IPython/core/interactiveshell.py:2718: DtypeWarning: Columns (4,31,33,61,62,76,79,90,92,94,96,121) have mixed types.Specify dtype option on import or set low_memory=False.\n",
            "  interactivity=interactivity, compiler=compiler, result=result)\n"
          ]
        }
      ]
    },
    {
      "cell_type": "code",
      "metadata": {
        "id": "FqLlLYa5ddsu",
        "colab": {
          "base_uri": "https://localhost:8080/"
        },
        "outputId": "5e6d2222-9109-4915-d91a-ab25d1b0085d"
      },
      "source": [
        "print(df.head(),'\\n',df.tail())"
      ],
      "execution_count": 109,
      "outputs": [
        {
          "output_type": "stream",
          "name": "stdout",
          "text": [
            "        eventid  iyear  imonth  iday  ... INT_MISC  INT_ANY related  casualties\n",
            "0  1.970000e+11   1970       7     2  ...      0.0      0.0     NaN         1.0\n",
            "1  1.970000e+11   1970       0     0  ...      1.0      1.0     NaN         0.0\n",
            "2  1.970000e+11   1970       1     0  ...      1.0      1.0     NaN         1.0\n",
            "3  1.970000e+11   1970       1     0  ...      1.0      1.0     NaN         0.0\n",
            "4  1.970000e+11   1970       1     0  ...      1.0      1.0     NaN         0.0\n",
            "\n",
            "[5 rows x 136 columns] \n",
            "             eventid  iyear  imonth  iday  ... INT_MISC  INT_ANY related  casualties\n",
            "48700  1.990000e+11   1991      10    22  ...      0.0      0.0     NaN         8.0\n",
            "48701  1.990000e+11   1991      10    22  ...      0.0      0.0     NaN         9.0\n",
            "48702  1.990000e+11   1991      10    22  ...      0.0      0.0     NaN         3.0\n",
            "48703  1.990000e+11   1991      10    22  ...      0.0      0.0     NaN         4.0\n",
            "48704  1.990000e+11   1991      10    22  ...      NaN      NaN     NaN         0.0\n",
            "\n",
            "[5 rows x 136 columns]\n"
          ]
        }
      ]
    },
    {
      "cell_type": "markdown",
      "metadata": {
        "id": "MkBSSjdzKubQ"
      },
      "source": [
        "**Shape of our Dataset**\n",
        "\n",
        "*This shows hom many rows & columns are there in dataset*\n",
        "\n",
        "\n"
      ]
    },
    {
      "cell_type": "code",
      "metadata": {
        "id": "ziFA17gRJjde",
        "colab": {
          "base_uri": "https://localhost:8080/"
        },
        "outputId": "495b3904-6145-44ff-c052-1da6adff0ff2"
      },
      "source": [
        "df.shape"
      ],
      "execution_count": 86,
      "outputs": [
        {
          "output_type": "execute_result",
          "data": {
            "text/plain": [
              "(48705, 135)"
            ]
          },
          "metadata": {},
          "execution_count": 86
        }
      ]
    },
    {
      "cell_type": "markdown",
      "metadata": {
        "id": "pFGhjSrHRayG"
      },
      "source": [
        "**Names of our 135 columns**\n"
      ]
    },
    {
      "cell_type": "code",
      "metadata": {
        "id": "RrpMZDT9RbUn",
        "colab": {
          "base_uri": "https://localhost:8080/"
        },
        "outputId": "d9258ae1-0699-44a3-aa4a-134fdcab781f"
      },
      "source": [
        "df.columns.values"
      ],
      "execution_count": 87,
      "outputs": [
        {
          "output_type": "execute_result",
          "data": {
            "text/plain": [
              "array(['eventid', 'iyear', 'imonth', 'iday', 'approxdate', 'extended',\n",
              "       'resolution', 'country', 'country_txt', 'region', 'region_txt',\n",
              "       'provstate', 'city', 'latitude', 'longitude', 'specificity',\n",
              "       'vicinity', 'location', 'summary', 'crit1', 'crit2', 'crit3',\n",
              "       'doubtterr', 'alternative', 'alternative_txt', 'multiple',\n",
              "       'success', 'suicide', 'attacktype1', 'attacktype1_txt',\n",
              "       'attacktype2', 'attacktype2_txt', 'attacktype3', 'attacktype3_txt',\n",
              "       'targtype1', 'targtype1_txt', 'targsubtype1', 'targsubtype1_txt',\n",
              "       'corp1', 'target1', 'natlty1', 'natlty1_txt', 'targtype2',\n",
              "       'targtype2_txt', 'targsubtype2', 'targsubtype2_txt', 'corp2',\n",
              "       'target2', 'natlty2', 'natlty2_txt', 'targtype3', 'targtype3_txt',\n",
              "       'targsubtype3', 'targsubtype3_txt', 'corp3', 'target3', 'natlty3',\n",
              "       'natlty3_txt', 'gname', 'gsubname', 'gname2', 'gsubname2',\n",
              "       'gname3', 'gsubname3', 'motive', 'guncertain1', 'guncertain2',\n",
              "       'guncertain3', 'individual', 'nperps', 'nperpcap', 'claimed',\n",
              "       'claimmode', 'claimmode_txt', 'claim2', 'claimmode2',\n",
              "       'claimmode2_txt', 'claim3', 'claimmode3', 'claimmode3_txt',\n",
              "       'compclaim', 'weaptype1', 'weaptype1_txt', 'weapsubtype1',\n",
              "       'weapsubtype1_txt', 'weaptype2', 'weaptype2_txt', 'weapsubtype2',\n",
              "       'weapsubtype2_txt', 'weaptype3', 'weaptype3_txt', 'weapsubtype3',\n",
              "       'weapsubtype3_txt', 'weaptype4', 'weaptype4_txt', 'weapsubtype4',\n",
              "       'weapsubtype4_txt', 'weapdetail', 'nkill', 'nkillus', 'nkillter',\n",
              "       'nwound', 'nwoundus', 'nwoundte', 'property', 'propextent',\n",
              "       'propextent_txt', 'propvalue', 'propcomment', 'ishostkid',\n",
              "       'nhostkid', 'nhostkidus', 'nhours', 'ndays', 'divert',\n",
              "       'kidhijcountry', 'ransom', 'ransomamt', 'ransomamtus',\n",
              "       'ransompaid', 'ransompaidus', 'ransomnote', 'hostkidoutcome',\n",
              "       'hostkidoutcome_txt', 'nreleased', 'addnotes', 'scite1', 'scite2',\n",
              "       'scite3', 'dbsource', 'INT_LOG', 'INT_IDEO', 'INT_MISC', 'INT_ANY',\n",
              "       'related'], dtype=object)"
            ]
          },
          "metadata": {},
          "execution_count": 87
        }
      ]
    },
    {
      "cell_type": "markdown",
      "metadata": {
        "id": "Lr6T6H8qSFn4"
      },
      "source": [
        "**Unique elements in our dataset**"
      ]
    },
    {
      "cell_type": "code",
      "metadata": {
        "id": "CMi7l1E4SMEp",
        "colab": {
          "base_uri": "https://localhost:8080/"
        },
        "outputId": "e836421f-a950-4419-fcbf-69375f2a7317"
      },
      "source": [
        "df.nunique()"
      ],
      "execution_count": 88,
      "outputs": [
        {
          "output_type": "execute_result",
          "data": {
            "text/plain": [
              "eventid          3\n",
              "iyear           22\n",
              "imonth          13\n",
              "iday            32\n",
              "approxdate      24\n",
              "              ... \n",
              "INT_LOG          3\n",
              "INT_IDEO         3\n",
              "INT_MISC         3\n",
              "INT_ANY          3\n",
              "related       3537\n",
              "Length: 135, dtype: int64"
            ]
          },
          "metadata": {},
          "execution_count": 88
        }
      ]
    },
    {
      "cell_type": "markdown",
      "metadata": {
        "id": "NYoZGQaWLVLe"
      },
      "source": [
        "**Null Values in our Dataset**"
      ]
    },
    {
      "cell_type": "code",
      "metadata": {
        "id": "HOlLRe_rLHs6",
        "colab": {
          "base_uri": "https://localhost:8080/"
        },
        "outputId": "be78fc5d-983f-415b-9600-a513f6f46c5e"
      },
      "source": [
        "df.isnull().sum()"
      ],
      "execution_count": 89,
      "outputs": [
        {
          "output_type": "execute_result",
          "data": {
            "text/plain": [
              "eventid           0\n",
              "iyear             0\n",
              "imonth            0\n",
              "iday              0\n",
              "approxdate    48679\n",
              "              ...  \n",
              "INT_LOG           1\n",
              "INT_IDEO          1\n",
              "INT_MISC          1\n",
              "INT_ANY           1\n",
              "related       43906\n",
              "Length: 135, dtype: int64"
            ]
          },
          "metadata": {},
          "execution_count": 89
        }
      ]
    },
    {
      "cell_type": "markdown",
      "metadata": {
        "id": "CxXruS4YN2Js"
      },
      "source": [
        "**Info of our Dataset**"
      ]
    },
    {
      "cell_type": "code",
      "metadata": {
        "id": "GcE8wVVKN8WQ",
        "colab": {
          "base_uri": "https://localhost:8080/"
        },
        "outputId": "d9d160d4-832b-4053-c0e1-78edfe434ce3"
      },
      "source": [
        "df.info()"
      ],
      "execution_count": 90,
      "outputs": [
        {
          "output_type": "stream",
          "name": "stdout",
          "text": [
            "<class 'pandas.core.frame.DataFrame'>\n",
            "RangeIndex: 48705 entries, 0 to 48704\n",
            "Columns: 135 entries, eventid to related\n",
            "dtypes: float64(61), int64(17), object(57)\n",
            "memory usage: 50.2+ MB\n"
          ]
        }
      ]
    },
    {
      "cell_type": "markdown",
      "metadata": {
        "id": "14pHdy06N_KU"
      },
      "source": [
        "**Describing our Dataset**"
      ]
    },
    {
      "cell_type": "code",
      "metadata": {
        "id": "ReDgbNb1OJje",
        "colab": {
          "base_uri": "https://localhost:8080/",
          "height": 319
        },
        "outputId": "7c4f1078-32ac-4ba0-9045-90c6c7cc000c"
      },
      "source": [
        "df.describe()"
      ],
      "execution_count": 91,
      "outputs": [
        {
          "output_type": "execute_result",
          "data": {
            "text/html": [
              "<div>\n",
              "<style scoped>\n",
              "    .dataframe tbody tr th:only-of-type {\n",
              "        vertical-align: middle;\n",
              "    }\n",
              "\n",
              "    .dataframe tbody tr th {\n",
              "        vertical-align: top;\n",
              "    }\n",
              "\n",
              "    .dataframe thead th {\n",
              "        text-align: right;\n",
              "    }\n",
              "</style>\n",
              "<table border=\"1\" class=\"dataframe\">\n",
              "  <thead>\n",
              "    <tr style=\"text-align: right;\">\n",
              "      <th></th>\n",
              "      <th>eventid</th>\n",
              "      <th>iyear</th>\n",
              "      <th>imonth</th>\n",
              "      <th>iday</th>\n",
              "      <th>extended</th>\n",
              "      <th>country</th>\n",
              "      <th>region</th>\n",
              "      <th>latitude</th>\n",
              "      <th>longitude</th>\n",
              "      <th>specificity</th>\n",
              "      <th>vicinity</th>\n",
              "      <th>crit1</th>\n",
              "      <th>crit2</th>\n",
              "      <th>crit3</th>\n",
              "      <th>doubtterr</th>\n",
              "      <th>alternative</th>\n",
              "      <th>multiple</th>\n",
              "      <th>success</th>\n",
              "      <th>suicide</th>\n",
              "      <th>attacktype1</th>\n",
              "      <th>attacktype2</th>\n",
              "      <th>attacktype3</th>\n",
              "      <th>targtype1</th>\n",
              "      <th>targsubtype1</th>\n",
              "      <th>natlty1</th>\n",
              "      <th>targtype2</th>\n",
              "      <th>targsubtype2</th>\n",
              "      <th>natlty2</th>\n",
              "      <th>targtype3</th>\n",
              "      <th>targsubtype3</th>\n",
              "      <th>natlty3</th>\n",
              "      <th>gsubname3</th>\n",
              "      <th>guncertain1</th>\n",
              "      <th>guncertain2</th>\n",
              "      <th>guncertain3</th>\n",
              "      <th>individual</th>\n",
              "      <th>nperps</th>\n",
              "      <th>nperpcap</th>\n",
              "      <th>claimed</th>\n",
              "      <th>claimmode</th>\n",
              "      <th>claim2</th>\n",
              "      <th>claimmode2</th>\n",
              "      <th>claim3</th>\n",
              "      <th>claimmode3</th>\n",
              "      <th>compclaim</th>\n",
              "      <th>weaptype1</th>\n",
              "      <th>weapsubtype1</th>\n",
              "      <th>weaptype2</th>\n",
              "      <th>weapsubtype2</th>\n",
              "      <th>weaptype3</th>\n",
              "      <th>weapsubtype3</th>\n",
              "      <th>weaptype4</th>\n",
              "      <th>weapsubtype4</th>\n",
              "      <th>nkill</th>\n",
              "      <th>nkillus</th>\n",
              "      <th>nkillter</th>\n",
              "      <th>nwound</th>\n",
              "      <th>nwoundus</th>\n",
              "      <th>nwoundte</th>\n",
              "      <th>property</th>\n",
              "      <th>propextent</th>\n",
              "      <th>propvalue</th>\n",
              "      <th>ishostkid</th>\n",
              "      <th>nhostkid</th>\n",
              "      <th>nhostkidus</th>\n",
              "      <th>nhours</th>\n",
              "      <th>ndays</th>\n",
              "      <th>ransom</th>\n",
              "      <th>ransomamt</th>\n",
              "      <th>ransomamtus</th>\n",
              "      <th>ransompaid</th>\n",
              "      <th>ransompaidus</th>\n",
              "      <th>hostkidoutcome</th>\n",
              "      <th>nreleased</th>\n",
              "      <th>INT_LOG</th>\n",
              "      <th>INT_IDEO</th>\n",
              "      <th>INT_MISC</th>\n",
              "      <th>INT_ANY</th>\n",
              "    </tr>\n",
              "  </thead>\n",
              "  <tbody>\n",
              "    <tr>\n",
              "      <th>count</th>\n",
              "      <td>4.870500e+04</td>\n",
              "      <td>48705.000000</td>\n",
              "      <td>48705.000000</td>\n",
              "      <td>48705.000000</td>\n",
              "      <td>48705.000000</td>\n",
              "      <td>48705.000000</td>\n",
              "      <td>48705.000000</td>\n",
              "      <td>46060.000000</td>\n",
              "      <td>4.606000e+04</td>\n",
              "      <td>48705.000000</td>\n",
              "      <td>48705.000000</td>\n",
              "      <td>48705.000000</td>\n",
              "      <td>48705.000000</td>\n",
              "      <td>48705.000000</td>\n",
              "      <td>48705.000000</td>\n",
              "      <td>8104.000000</td>\n",
              "      <td>48705.000000</td>\n",
              "      <td>48705.000000</td>\n",
              "      <td>48705.000000</td>\n",
              "      <td>48705.000000</td>\n",
              "      <td>41.000000</td>\n",
              "      <td>2.000000</td>\n",
              "      <td>48705.000000</td>\n",
              "      <td>46569.000000</td>\n",
              "      <td>48487.000000</td>\n",
              "      <td>543.000000</td>\n",
              "      <td>407.000000</td>\n",
              "      <td>491.000000</td>\n",
              "      <td>82.000000</td>\n",
              "      <td>61.000000</td>\n",
              "      <td>80.00000</td>\n",
              "      <td>0.0</td>\n",
              "      <td>48704.000000</td>\n",
              "      <td>118.000000</td>\n",
              "      <td>11.000000</td>\n",
              "      <td>48704.000000</td>\n",
              "      <td>7119.000000</td>\n",
              "      <td>1236.000000</td>\n",
              "      <td>1240.000000</td>\n",
              "      <td>316.000000</td>\n",
              "      <td>19.000000</td>\n",
              "      <td>18.000000</td>\n",
              "      <td>8.0</td>\n",
              "      <td>8.000000</td>\n",
              "      <td>49.000000</td>\n",
              "      <td>48704.000000</td>\n",
              "      <td>41418.000000</td>\n",
              "      <td>2814.000000</td>\n",
              "      <td>2344.000000</td>\n",
              "      <td>364.000000</td>\n",
              "      <td>315.000000</td>\n",
              "      <td>66.000000</td>\n",
              "      <td>62.000000</td>\n",
              "      <td>42928.000000</td>\n",
              "      <td>2860.000000</td>\n",
              "      <td>2826.000000</td>\n",
              "      <td>41106.000000</td>\n",
              "      <td>2815.000000</td>\n",
              "      <td>2537.000000</td>\n",
              "      <td>48704.000000</td>\n",
              "      <td>16501.000000</td>\n",
              "      <td>9.417000e+03</td>\n",
              "      <td>48529.000000</td>\n",
              "      <td>3008.000000</td>\n",
              "      <td>3008.000000</td>\n",
              "      <td>958.000000</td>\n",
              "      <td>713.000000</td>\n",
              "      <td>48347.000000</td>\n",
              "      <td>5.390000e+02</td>\n",
              "      <td>1.0</td>\n",
              "      <td>1.190000e+02</td>\n",
              "      <td>2.0</td>\n",
              "      <td>1180.000000</td>\n",
              "      <td>894.000000</td>\n",
              "      <td>48704.000000</td>\n",
              "      <td>48704.000000</td>\n",
              "      <td>48704.000000</td>\n",
              "      <td>48704.000000</td>\n",
              "    </tr>\n",
              "    <tr>\n",
              "      <th>mean</th>\n",
              "      <td>1.984494e+11</td>\n",
              "      <td>1983.980392</td>\n",
              "      <td>6.357643</td>\n",
              "      <td>15.330418</td>\n",
              "      <td>0.016898</td>\n",
              "      <td>152.243117</td>\n",
              "      <td>5.272806</td>\n",
              "      <td>16.800310</td>\n",
              "      <td>-1.894181e+03</td>\n",
              "      <td>1.416857</td>\n",
              "      <td>0.032399</td>\n",
              "      <td>0.991664</td>\n",
              "      <td>0.992157</td>\n",
              "      <td>0.852767</td>\n",
              "      <td>-1.310872</td>\n",
              "      <td>1.158810</td>\n",
              "      <td>0.098553</td>\n",
              "      <td>0.920665</td>\n",
              "      <td>0.000842</td>\n",
              "      <td>2.994539</td>\n",
              "      <td>4.585366</td>\n",
              "      <td>3.000000</td>\n",
              "      <td>7.662807</td>\n",
              "      <td>44.669201</td>\n",
              "      <td>129.397777</td>\n",
              "      <td>8.893186</td>\n",
              "      <td>46.550369</td>\n",
              "      <td>170.765784</td>\n",
              "      <td>7.195122</td>\n",
              "      <td>45.918033</td>\n",
              "      <td>143.08750</td>\n",
              "      <td>NaN</td>\n",
              "      <td>0.047553</td>\n",
              "      <td>0.177966</td>\n",
              "      <td>0.090909</td>\n",
              "      <td>0.001191</td>\n",
              "      <td>6.086669</td>\n",
              "      <td>-73.143204</td>\n",
              "      <td>-0.023387</td>\n",
              "      <td>4.474684</td>\n",
              "      <td>0.947368</td>\n",
              "      <td>5.611111</td>\n",
              "      <td>1.0</td>\n",
              "      <td>8.000000</td>\n",
              "      <td>0.183673</td>\n",
              "      <td>6.390543</td>\n",
              "      <td>10.060505</td>\n",
              "      <td>6.417555</td>\n",
              "      <td>9.888652</td>\n",
              "      <td>6.615385</td>\n",
              "      <td>9.930159</td>\n",
              "      <td>6.287879</td>\n",
              "      <td>10.467742</td>\n",
              "      <td>2.073449</td>\n",
              "      <td>0.301399</td>\n",
              "      <td>0.527601</td>\n",
              "      <td>1.675254</td>\n",
              "      <td>0.598224</td>\n",
              "      <td>0.061096</td>\n",
              "      <td>0.723719</td>\n",
              "      <td>3.396461</td>\n",
              "      <td>2.345680e+05</td>\n",
              "      <td>0.061984</td>\n",
              "      <td>1.066157</td>\n",
              "      <td>0.076795</td>\n",
              "      <td>17.112735</td>\n",
              "      <td>31.281907</td>\n",
              "      <td>0.011335</td>\n",
              "      <td>3.365172e+06</td>\n",
              "      <td>20000.0</td>\n",
              "      <td>1.063936e+06</td>\n",
              "      <td>0.0</td>\n",
              "      <td>3.017797</td>\n",
              "      <td>8.675615</td>\n",
              "      <td>-3.141015</td>\n",
              "      <td>-3.095783</td>\n",
              "      <td>0.151179</td>\n",
              "      <td>-2.414832</td>\n",
              "    </tr>\n",
              "    <tr>\n",
              "      <th>std</th>\n",
              "      <td>6.001062e+08</td>\n",
              "      <td>5.210674</td>\n",
              "      <td>3.347402</td>\n",
              "      <td>8.828112</td>\n",
              "      <td>0.128889</td>\n",
              "      <td>137.745203</td>\n",
              "      <td>3.159752</td>\n",
              "      <td>25.157890</td>\n",
              "      <td>4.015819e+05</td>\n",
              "      <td>1.098503</td>\n",
              "      <td>0.177060</td>\n",
              "      <td>0.090921</td>\n",
              "      <td>0.088214</td>\n",
              "      <td>0.354342</td>\n",
              "      <td>3.426773</td>\n",
              "      <td>0.469561</td>\n",
              "      <td>0.298063</td>\n",
              "      <td>0.270263</td>\n",
              "      <td>0.029002</td>\n",
              "      <td>1.842243</td>\n",
              "      <td>2.469571</td>\n",
              "      <td>1.414214</td>\n",
              "      <td>6.791713</td>\n",
              "      <td>33.169091</td>\n",
              "      <td>73.148083</td>\n",
              "      <td>6.802133</td>\n",
              "      <td>29.951304</td>\n",
              "      <td>114.218034</td>\n",
              "      <td>6.045995</td>\n",
              "      <td>29.478973</td>\n",
              "      <td>82.33894</td>\n",
              "      <td>NaN</td>\n",
              "      <td>0.212820</td>\n",
              "      <td>0.384115</td>\n",
              "      <td>0.301511</td>\n",
              "      <td>0.034489</td>\n",
              "      <td>73.324962</td>\n",
              "      <td>44.058111</td>\n",
              "      <td>1.654188</td>\n",
              "      <td>3.156650</td>\n",
              "      <td>0.229416</td>\n",
              "      <td>3.821593</td>\n",
              "      <td>0.0</td>\n",
              "      <td>2.828427</td>\n",
              "      <td>0.391230</td>\n",
              "      <td>2.188180</td>\n",
              "      <td>7.151448</td>\n",
              "      <td>1.795279</td>\n",
              "      <td>7.187149</td>\n",
              "      <td>2.132107</td>\n",
              "      <td>7.902363</td>\n",
              "      <td>1.516729</td>\n",
              "      <td>7.787585</td>\n",
              "      <td>8.546027</td>\n",
              "      <td>5.812934</td>\n",
              "      <td>2.792300</td>\n",
              "      <td>10.020674</td>\n",
              "      <td>14.396811</td>\n",
              "      <td>0.351613</td>\n",
              "      <td>0.617294</td>\n",
              "      <td>0.517825</td>\n",
              "      <td>5.953699e+06</td>\n",
              "      <td>0.241128</td>\n",
              "      <td>394.926217</td>\n",
              "      <td>3.813636</td>\n",
              "      <td>128.356700</td>\n",
              "      <td>150.008822</td>\n",
              "      <td>0.105861</td>\n",
              "      <td>4.346548e+07</td>\n",
              "      <td>NaN</td>\n",
              "      <td>4.209263e+06</td>\n",
              "      <td>0.0</td>\n",
              "      <td>1.352479</td>\n",
              "      <td>32.732277</td>\n",
              "      <td>4.361325</td>\n",
              "      <td>4.414419</td>\n",
              "      <td>0.709547</td>\n",
              "      <td>4.304024</td>\n",
              "    </tr>\n",
              "    <tr>\n",
              "      <th>min</th>\n",
              "      <td>1.970000e+11</td>\n",
              "      <td>1970.000000</td>\n",
              "      <td>0.000000</td>\n",
              "      <td>0.000000</td>\n",
              "      <td>0.000000</td>\n",
              "      <td>4.000000</td>\n",
              "      <td>1.000000</td>\n",
              "      <td>-53.154613</td>\n",
              "      <td>-8.618590e+07</td>\n",
              "      <td>1.000000</td>\n",
              "      <td>0.000000</td>\n",
              "      <td>0.000000</td>\n",
              "      <td>0.000000</td>\n",
              "      <td>0.000000</td>\n",
              "      <td>-9.000000</td>\n",
              "      <td>1.000000</td>\n",
              "      <td>0.000000</td>\n",
              "      <td>0.000000</td>\n",
              "      <td>0.000000</td>\n",
              "      <td>1.000000</td>\n",
              "      <td>2.000000</td>\n",
              "      <td>2.000000</td>\n",
              "      <td>1.000000</td>\n",
              "      <td>1.000000</td>\n",
              "      <td>4.000000</td>\n",
              "      <td>1.000000</td>\n",
              "      <td>1.000000</td>\n",
              "      <td>4.000000</td>\n",
              "      <td>1.000000</td>\n",
              "      <td>7.000000</td>\n",
              "      <td>6.00000</td>\n",
              "      <td>NaN</td>\n",
              "      <td>0.000000</td>\n",
              "      <td>0.000000</td>\n",
              "      <td>0.000000</td>\n",
              "      <td>0.000000</td>\n",
              "      <td>-99.000000</td>\n",
              "      <td>-99.000000</td>\n",
              "      <td>-9.000000</td>\n",
              "      <td>1.000000</td>\n",
              "      <td>0.000000</td>\n",
              "      <td>1.000000</td>\n",
              "      <td>1.0</td>\n",
              "      <td>1.000000</td>\n",
              "      <td>0.000000</td>\n",
              "      <td>1.000000</td>\n",
              "      <td>1.000000</td>\n",
              "      <td>2.000000</td>\n",
              "      <td>2.000000</td>\n",
              "      <td>2.000000</td>\n",
              "      <td>2.000000</td>\n",
              "      <td>5.000000</td>\n",
              "      <td>2.000000</td>\n",
              "      <td>0.000000</td>\n",
              "      <td>0.000000</td>\n",
              "      <td>0.000000</td>\n",
              "      <td>0.000000</td>\n",
              "      <td>0.000000</td>\n",
              "      <td>0.000000</td>\n",
              "      <td>-9.000000</td>\n",
              "      <td>2.000000</td>\n",
              "      <td>-9.900000e+01</td>\n",
              "      <td>0.000000</td>\n",
              "      <td>-99.000000</td>\n",
              "      <td>-99.000000</td>\n",
              "      <td>-99.000000</td>\n",
              "      <td>-99.000000</td>\n",
              "      <td>0.000000</td>\n",
              "      <td>0.000000e+00</td>\n",
              "      <td>20000.0</td>\n",
              "      <td>0.000000e+00</td>\n",
              "      <td>0.0</td>\n",
              "      <td>2.000000</td>\n",
              "      <td>-99.000000</td>\n",
              "      <td>-9.000000</td>\n",
              "      <td>-9.000000</td>\n",
              "      <td>-9.000000</td>\n",
              "      <td>-9.000000</td>\n",
              "    </tr>\n",
              "    <tr>\n",
              "      <th>25%</th>\n",
              "      <td>1.980000e+11</td>\n",
              "      <td>1980.000000</td>\n",
              "      <td>4.000000</td>\n",
              "      <td>8.000000</td>\n",
              "      <td>0.000000</td>\n",
              "      <td>61.000000</td>\n",
              "      <td>3.000000</td>\n",
              "      <td>4.438910</td>\n",
              "      <td>-7.697846e+01</td>\n",
              "      <td>1.000000</td>\n",
              "      <td>0.000000</td>\n",
              "      <td>1.000000</td>\n",
              "      <td>1.000000</td>\n",
              "      <td>1.000000</td>\n",
              "      <td>0.000000</td>\n",
              "      <td>1.000000</td>\n",
              "      <td>0.000000</td>\n",
              "      <td>1.000000</td>\n",
              "      <td>0.000000</td>\n",
              "      <td>2.000000</td>\n",
              "      <td>2.000000</td>\n",
              "      <td>2.500000</td>\n",
              "      <td>2.000000</td>\n",
              "      <td>21.000000</td>\n",
              "      <td>61.000000</td>\n",
              "      <td>2.000000</td>\n",
              "      <td>18.000000</td>\n",
              "      <td>90.500000</td>\n",
              "      <td>2.000000</td>\n",
              "      <td>21.000000</td>\n",
              "      <td>73.50000</td>\n",
              "      <td>NaN</td>\n",
              "      <td>0.000000</td>\n",
              "      <td>0.000000</td>\n",
              "      <td>0.000000</td>\n",
              "      <td>0.000000</td>\n",
              "      <td>1.000000</td>\n",
              "      <td>-99.000000</td>\n",
              "      <td>0.000000</td>\n",
              "      <td>2.000000</td>\n",
              "      <td>1.000000</td>\n",
              "      <td>2.000000</td>\n",
              "      <td>1.0</td>\n",
              "      <td>9.000000</td>\n",
              "      <td>0.000000</td>\n",
              "      <td>5.000000</td>\n",
              "      <td>2.000000</td>\n",
              "      <td>5.000000</td>\n",
              "      <td>3.000000</td>\n",
              "      <td>5.000000</td>\n",
              "      <td>3.000000</td>\n",
              "      <td>5.000000</td>\n",
              "      <td>3.000000</td>\n",
              "      <td>0.000000</td>\n",
              "      <td>0.000000</td>\n",
              "      <td>0.000000</td>\n",
              "      <td>0.000000</td>\n",
              "      <td>0.000000</td>\n",
              "      <td>0.000000</td>\n",
              "      <td>0.000000</td>\n",
              "      <td>3.000000</td>\n",
              "      <td>5.000000e+03</td>\n",
              "      <td>0.000000</td>\n",
              "      <td>1.000000</td>\n",
              "      <td>0.000000</td>\n",
              "      <td>0.000000</td>\n",
              "      <td>1.000000</td>\n",
              "      <td>0.000000</td>\n",
              "      <td>0.000000e+00</td>\n",
              "      <td>20000.0</td>\n",
              "      <td>0.000000e+00</td>\n",
              "      <td>0.0</td>\n",
              "      <td>2.000000</td>\n",
              "      <td>1.000000</td>\n",
              "      <td>-9.000000</td>\n",
              "      <td>-9.000000</td>\n",
              "      <td>0.000000</td>\n",
              "      <td>-9.000000</td>\n",
              "    </tr>\n",
              "    <tr>\n",
              "      <th>50%</th>\n",
              "      <td>1.990000e+11</td>\n",
              "      <td>1985.000000</td>\n",
              "      <td>6.000000</td>\n",
              "      <td>15.000000</td>\n",
              "      <td>0.000000</td>\n",
              "      <td>110.000000</td>\n",
              "      <td>3.000000</td>\n",
              "      <td>14.091943</td>\n",
              "      <td>-9.421758e+00</td>\n",
              "      <td>1.000000</td>\n",
              "      <td>0.000000</td>\n",
              "      <td>1.000000</td>\n",
              "      <td>1.000000</td>\n",
              "      <td>1.000000</td>\n",
              "      <td>0.000000</td>\n",
              "      <td>1.000000</td>\n",
              "      <td>0.000000</td>\n",
              "      <td>1.000000</td>\n",
              "      <td>0.000000</td>\n",
              "      <td>3.000000</td>\n",
              "      <td>6.000000</td>\n",
              "      <td>3.000000</td>\n",
              "      <td>4.000000</td>\n",
              "      <td>29.000000</td>\n",
              "      <td>138.000000</td>\n",
              "      <td>7.000000</td>\n",
              "      <td>46.000000</td>\n",
              "      <td>185.000000</td>\n",
              "      <td>5.000000</td>\n",
              "      <td>42.000000</td>\n",
              "      <td>159.00000</td>\n",
              "      <td>NaN</td>\n",
              "      <td>0.000000</td>\n",
              "      <td>0.000000</td>\n",
              "      <td>0.000000</td>\n",
              "      <td>0.000000</td>\n",
              "      <td>3.000000</td>\n",
              "      <td>-99.000000</td>\n",
              "      <td>0.000000</td>\n",
              "      <td>5.000000</td>\n",
              "      <td>1.000000</td>\n",
              "      <td>7.000000</td>\n",
              "      <td>1.0</td>\n",
              "      <td>9.000000</td>\n",
              "      <td>0.000000</td>\n",
              "      <td>6.000000</td>\n",
              "      <td>15.000000</td>\n",
              "      <td>6.000000</td>\n",
              "      <td>7.000000</td>\n",
              "      <td>6.000000</td>\n",
              "      <td>7.000000</td>\n",
              "      <td>6.000000</td>\n",
              "      <td>9.500000</td>\n",
              "      <td>0.000000</td>\n",
              "      <td>0.000000</td>\n",
              "      <td>0.000000</td>\n",
              "      <td>0.000000</td>\n",
              "      <td>0.000000</td>\n",
              "      <td>0.000000</td>\n",
              "      <td>1.000000</td>\n",
              "      <td>3.000000</td>\n",
              "      <td>2.000000e+04</td>\n",
              "      <td>0.000000</td>\n",
              "      <td>1.000000</td>\n",
              "      <td>0.000000</td>\n",
              "      <td>0.000000</td>\n",
              "      <td>2.000000</td>\n",
              "      <td>0.000000</td>\n",
              "      <td>0.000000e+00</td>\n",
              "      <td>20000.0</td>\n",
              "      <td>2.700000e+04</td>\n",
              "      <td>0.0</td>\n",
              "      <td>2.000000</td>\n",
              "      <td>1.000000</td>\n",
              "      <td>0.000000</td>\n",
              "      <td>0.000000</td>\n",
              "      <td>0.000000</td>\n",
              "      <td>0.000000</td>\n",
              "    </tr>\n",
              "    <tr>\n",
              "      <th>75%</th>\n",
              "      <td>1.990000e+11</td>\n",
              "      <td>1988.000000</td>\n",
              "      <td>9.000000</td>\n",
              "      <td>23.000000</td>\n",
              "      <td>0.000000</td>\n",
              "      <td>185.000000</td>\n",
              "      <td>8.000000</td>\n",
              "      <td>38.620999</td>\n",
              "      <td>2.803323e+01</td>\n",
              "      <td>1.000000</td>\n",
              "      <td>0.000000</td>\n",
              "      <td>1.000000</td>\n",
              "      <td>1.000000</td>\n",
              "      <td>1.000000</td>\n",
              "      <td>0.000000</td>\n",
              "      <td>1.000000</td>\n",
              "      <td>0.000000</td>\n",
              "      <td>1.000000</td>\n",
              "      <td>0.000000</td>\n",
              "      <td>3.000000</td>\n",
              "      <td>7.000000</td>\n",
              "      <td>3.500000</td>\n",
              "      <td>14.000000</td>\n",
              "      <td>75.000000</td>\n",
              "      <td>185.000000</td>\n",
              "      <td>14.000000</td>\n",
              "      <td>69.000000</td>\n",
              "      <td>217.000000</td>\n",
              "      <td>14.000000</td>\n",
              "      <td>76.000000</td>\n",
              "      <td>187.50000</td>\n",
              "      <td>NaN</td>\n",
              "      <td>0.000000</td>\n",
              "      <td>0.000000</td>\n",
              "      <td>0.000000</td>\n",
              "      <td>0.000000</td>\n",
              "      <td>7.000000</td>\n",
              "      <td>0.000000</td>\n",
              "      <td>1.000000</td>\n",
              "      <td>8.000000</td>\n",
              "      <td>1.000000</td>\n",
              "      <td>9.000000</td>\n",
              "      <td>1.0</td>\n",
              "      <td>9.000000</td>\n",
              "      <td>0.000000</td>\n",
              "      <td>6.000000</td>\n",
              "      <td>16.000000</td>\n",
              "      <td>8.000000</td>\n",
              "      <td>16.000000</td>\n",
              "      <td>8.000000</td>\n",
              "      <td>16.000000</td>\n",
              "      <td>7.500000</td>\n",
              "      <td>16.000000</td>\n",
              "      <td>1.000000</td>\n",
              "      <td>0.000000</td>\n",
              "      <td>0.000000</td>\n",
              "      <td>0.000000</td>\n",
              "      <td>0.000000</td>\n",
              "      <td>0.000000</td>\n",
              "      <td>1.000000</td>\n",
              "      <td>4.000000</td>\n",
              "      <td>5.000000e+04</td>\n",
              "      <td>0.000000</td>\n",
              "      <td>2.000000</td>\n",
              "      <td>0.000000</td>\n",
              "      <td>0.000000</td>\n",
              "      <td>12.000000</td>\n",
              "      <td>0.000000</td>\n",
              "      <td>5.000000e+05</td>\n",
              "      <td>20000.0</td>\n",
              "      <td>5.000000e+05</td>\n",
              "      <td>0.0</td>\n",
              "      <td>4.000000</td>\n",
              "      <td>2.000000</td>\n",
              "      <td>0.000000</td>\n",
              "      <td>0.000000</td>\n",
              "      <td>0.000000</td>\n",
              "      <td>1.000000</td>\n",
              "    </tr>\n",
              "    <tr>\n",
              "      <th>max</th>\n",
              "      <td>1.990000e+11</td>\n",
              "      <td>1991.000000</td>\n",
              "      <td>12.000000</td>\n",
              "      <td>31.000000</td>\n",
              "      <td>1.000000</td>\n",
              "      <td>605.000000</td>\n",
              "      <td>12.000000</td>\n",
              "      <td>64.837778</td>\n",
              "      <td>1.784419e+02</td>\n",
              "      <td>5.000000</td>\n",
              "      <td>1.000000</td>\n",
              "      <td>1.000000</td>\n",
              "      <td>1.000000</td>\n",
              "      <td>1.000000</td>\n",
              "      <td>1.000000</td>\n",
              "      <td>5.000000</td>\n",
              "      <td>1.000000</td>\n",
              "      <td>1.000000</td>\n",
              "      <td>1.000000</td>\n",
              "      <td>9.000000</td>\n",
              "      <td>7.000000</td>\n",
              "      <td>4.000000</td>\n",
              "      <td>22.000000</td>\n",
              "      <td>113.000000</td>\n",
              "      <td>999.000000</td>\n",
              "      <td>22.000000</td>\n",
              "      <td>108.000000</td>\n",
              "      <td>999.000000</td>\n",
              "      <td>22.000000</td>\n",
              "      <td>108.000000</td>\n",
              "      <td>422.00000</td>\n",
              "      <td>NaN</td>\n",
              "      <td>1.000000</td>\n",
              "      <td>1.000000</td>\n",
              "      <td>1.000000</td>\n",
              "      <td>1.000000</td>\n",
              "      <td>1200.000000</td>\n",
              "      <td>26.000000</td>\n",
              "      <td>1.000000</td>\n",
              "      <td>10.000000</td>\n",
              "      <td>1.000000</td>\n",
              "      <td>10.000000</td>\n",
              "      <td>1.0</td>\n",
              "      <td>9.000000</td>\n",
              "      <td>1.000000</td>\n",
              "      <td>13.000000</td>\n",
              "      <td>31.000000</td>\n",
              "      <td>13.000000</td>\n",
              "      <td>28.000000</td>\n",
              "      <td>13.000000</td>\n",
              "      <td>28.000000</td>\n",
              "      <td>12.000000</td>\n",
              "      <td>27.000000</td>\n",
              "      <td>422.000000</td>\n",
              "      <td>241.000000</td>\n",
              "      <td>85.000000</td>\n",
              "      <td>751.000000</td>\n",
              "      <td>751.000000</td>\n",
              "      <td>5.000000</td>\n",
              "      <td>1.000000</td>\n",
              "      <td>4.000000</td>\n",
              "      <td>5.480000e+08</td>\n",
              "      <td>1.000000</td>\n",
              "      <td>17000.000000</td>\n",
              "      <td>70.000000</td>\n",
              "      <td>999.000000</td>\n",
              "      <td>2454.000000</td>\n",
              "      <td>1.000000</td>\n",
              "      <td>1.000000e+09</td>\n",
              "      <td>20000.0</td>\n",
              "      <td>4.100000e+07</td>\n",
              "      <td>0.0</td>\n",
              "      <td>7.000000</td>\n",
              "      <td>390.000000</td>\n",
              "      <td>1.000000</td>\n",
              "      <td>1.000000</td>\n",
              "      <td>1.000000</td>\n",
              "      <td>1.000000</td>\n",
              "    </tr>\n",
              "  </tbody>\n",
              "</table>\n",
              "</div>"
            ],
            "text/plain": [
              "            eventid         iyear  ...      INT_MISC       INT_ANY\n",
              "count  4.870500e+04  48705.000000  ...  48704.000000  48704.000000\n",
              "mean   1.984494e+11   1983.980392  ...      0.151179     -2.414832\n",
              "std    6.001062e+08      5.210674  ...      0.709547      4.304024\n",
              "min    1.970000e+11   1970.000000  ...     -9.000000     -9.000000\n",
              "25%    1.980000e+11   1980.000000  ...      0.000000     -9.000000\n",
              "50%    1.990000e+11   1985.000000  ...      0.000000      0.000000\n",
              "75%    1.990000e+11   1988.000000  ...      0.000000      1.000000\n",
              "max    1.990000e+11   1991.000000  ...      1.000000      1.000000\n",
              "\n",
              "[8 rows x 78 columns]"
            ]
          },
          "metadata": {},
          "execution_count": 91
        }
      ]
    },
    {
      "cell_type": "markdown",
      "metadata": {
        "id": "hLeWf44ZSmEU"
      },
      "source": [
        "**Now we will build a casualties column containing killed & wounded people**"
      ]
    },
    {
      "cell_type": "code",
      "metadata": {
        "id": "xs3gKPmVSo4R"
      },
      "source": [
        "df['nkill'] = df['nkill'].fillna(0)\n",
        "df['nwound'] = df['nwound'].fillna(0)\n",
        "\n",
        "df['casualties'] = df['nkill'] + df['nwound']"
      ],
      "execution_count": 92,
      "outputs": []
    },
    {
      "cell_type": "markdown",
      "metadata": {
        "id": "S5x7dyUBSr9c"
      },
      "source": [
        "**Now let's visualize the terrorism data**"
      ]
    },
    {
      "cell_type": "code",
      "metadata": {
        "id": "3d_qhws5Ssyl"
      },
      "source": [
        "import matplotlib.pyplot as plt\n",
        "import seaborn as sns"
      ],
      "execution_count": 93,
      "outputs": []
    },
    {
      "cell_type": "markdown",
      "metadata": {
        "id": "N8TZc9IQTC2V"
      },
      "source": [
        "**Graph of Terrorist Attacks from year 1970 to1991**"
      ]
    },
    {
      "cell_type": "code",
      "metadata": {
        "id": "BHqoOfAmS-WD"
      },
      "source": [
        "year = df['iyear'].unique()\n",
        "years_count = df['iyear'].value_counts(dropna=False).sort_index()"
      ],
      "execution_count": 94,
      "outputs": []
    },
    {
      "cell_type": "code",
      "metadata": {
        "id": "x2Mdz-pvTMvX",
        "colab": {
          "base_uri": "https://localhost:8080/",
          "height": 598
        },
        "outputId": "03484fc8-de77-4930-b979-34df967b7ae7"
      },
      "source": [
        "plt.figure(figsize=(9,9))\n",
        "sns.barplot(x=year,y=years_count, palette='tab10')\n",
        "plt.xticks(rotation = 50)\n",
        "plt.xlabel('Attacking Year', fontsize=20)\n",
        "plt.ylabel('Number of Attacks each Year', fontsize=20)\n",
        "plt.title('Attacks in Years', fontsize=22)\n",
        "plt.show()"
      ],
      "execution_count": 95,
      "outputs": [
        {
          "output_type": "display_data",
          "data": {
            "image/png": "[encoded data removed]",
            "text/plain": [
              "<Figure size 648x648 with 1 Axes>"
            ]
          },
          "metadata": {
            "needs_background": "light"
          }
        }
      ]
    },
    {
      "cell_type": "markdown",
      "metadata": {
        "id": "bDFMr2GPTS-Q"
      },
      "source": [
        "**These Graph shows the number of people killed in Terrorist Attacks**"
      ]
    },
    {
      "cell_type": "code",
      "metadata": {
        "id": "M3UoShqxTcVG",
        "colab": {
          "base_uri": "https://localhost:8080/",
          "height": 601
        },
        "outputId": "b7f0b373-fa71-41a1-c57c-03649d24c3a1"
      },
      "source": [
        "Df = df[['iyear','nkill']].groupby(['iyear']).sum()\n",
        "fig, ax4 = plt.subplots(figsize=(9,9))\n",
        "Df.plot(kind='bar', alpha=0.7, ax=ax4, color='green')\n",
        "plt.xticks(rotation = 50)\n",
        "plt.title('People died due to Attack', fontsize=25)\n",
        "plt.xlabel('Year', fontsize=20)\n",
        "plt.ylabel('Number of Killed People', fontsize=20)\n",
        "\n",
        "top_side = ax4.spines['top']\n",
        "top_side.set_visible(False)\n",
        "right_side = ax4.spines['right']\n",
        "right_side.set_visible(False)"
      ],
      "execution_count": 96,
      "outputs": [
        {
          "output_type": "display_data",
          "data": {
            "image/png": "[encoded data removed]",
            "text/plain": [
              "<Figure size 648x648 with 1 Axes>"
            ]
          },
          "metadata": {
            "needs_background": "light"
          }
        }
      ]
    },
    {
      "cell_type": "markdown",
      "metadata": {
        "id": "8KmobSsrTjqq"
      },
      "source": [
        "**These Graph shows the number of Active Terrorist Groups**"
      ]
    },
    {
      "cell_type": "code",
      "metadata": {
        "id": "5OQhEWCyTwid",
        "colab": {
          "base_uri": "https://localhost:8080/",
          "height": 821
        },
        "outputId": "0d7b362a-daf7-45d0-dcdc-88853c48cfc9"
      },
      "source": [
        "df['gname'].value_counts().to_frame().drop('Unknown').head(10).plot(kind='bar',color='yellow',figsize=(9,9))\n",
        "plt.title('Top 10 Active Terrorist Groups', fontsize=25)\n",
        "plt.xlabel('Group Name ',fontsize=20)\n",
        "plt.ylabel('Attack Number ',fontsize=20)\n",
        "plt.show()"
      ],
      "execution_count": 97,
      "outputs": [
        {
          "output_type": "display_data",
          "data": {
            "image/png": "[encoded data removed]",
            "text/plain": [
              "<Figure size 648x648 with 1 Axes>"
            ]
          },
          "metadata": {
            "needs_background": "light"
          }
        }
      ]
    },
    {
      "cell_type": "markdown",
      "metadata": {
        "id": "lKThOgYSxET8"
      },
      "source": [
        "**Graph of Top 10 Attacked Companies**"
      ]
    },
    {
      "cell_type": "code",
      "metadata": {
        "colab": {
          "base_uri": "https://localhost:8080/",
          "height": 661
        },
        "id": "124d5rdyxMji",
        "outputId": "685fc4b5-9be3-47f8-8ed2-f3c54e5397c8"
      },
      "source": [
        "df['country_txt'].value_counts().to_frame().sort_values('country_txt',\n",
        "  axis=0,ascending=False).head(10).plot(kind='bar',color='blue',figsize=(9,9))\n",
        "plt.xticks(rotation=50)\n",
        "plt.xlabel('Attack Type ',fontsize=20)\n",
        "plt.ylabel('Number of Attack ',fontsize=20)\n",
        "plt.title('Name of Attack Type', fontsize=25)"
      ],
      "execution_count": 98,
      "outputs": [
        {
          "output_type": "execute_result",
          "data": {
            "text/plain": [
              "Text(0.5, 1.0, 'Name of Attack Type')"
            ]
          },
          "metadata": {},
          "execution_count": 98
        },
        {
          "output_type": "display_data",
          "data": {
            "image/png": "[encoded data removed]",
            "text/plain": [
              "<Figure size 648x648 with 1 Axes>"
            ]
          },
          "metadata": {
            "needs_background": "light"
          }
        }
      ]
    },
    {
      "cell_type": "markdown",
      "metadata": {
        "id": "h28rIIVtTzOk"
      },
      "source": [
        "**Graph for types of attacks used by Terrorists**"
      ]
    },
    {
      "cell_type": "code",
      "metadata": {
        "id": "bJCxT6VtT8_-",
        "colab": {
          "base_uri": "https://localhost:8080/",
          "height": 736
        },
        "outputId": "ceef2036-578e-4f6a-934a-24a6b0ba388a"
      },
      "source": [
        "df['attacktype1_txt'].value_counts().plot(kind='bar',\n",
        "   figsize=(9,9), color='orange')\n",
        "plt.xticks(rotation=50)\n",
        "plt.xlabel('Attack Type ',fontsize=20)\n",
        "plt.ylabel('Number of Attack ',fontsize=20)\n",
        "plt.title('Name of Attack Type', fontsize=25)"
      ],
      "execution_count": 99,
      "outputs": [
        {
          "output_type": "execute_result",
          "data": {
            "text/plain": [
              "Text(0.5, 1.0, 'Name of Attack Type')"
            ]
          },
          "metadata": {},
          "execution_count": 99
        },
        {
          "output_type": "display_data",
          "data": {
            "image/png": "[encoded data removed]",
            "text/plain": [
              "<Figure size 648x648 with 1 Axes>"
            ]
          },
          "metadata": {
            "needs_background": "light"
          }
        }
      ]
    },
    {
      "cell_type": "markdown",
      "metadata": {
        "id": "6idHgleGT_le"
      },
      "source": [
        "**Graph to show which sectors are most affected by Terrorist Attacks**"
      ]
    },
    {
      "cell_type": "code",
      "metadata": {
        "id": "bhEGTea1UINU",
        "colab": {
          "base_uri": "https://localhost:8080/",
          "height": 532
        },
        "outputId": "e0d49a00-3c2e-49d8-f98e-a1295b357744"
      },
      "source": [
        "plt.subplots(figsize=(16,9))\n",
        "sns.countplot(df['targtype1_txt'],order=df['targtype1_txt'].value_counts().index,\n",
        "    palette='gist_heat',edgecolor=sns.color_palette('Set2'))\n",
        "plt.xticks(rotation=50)\n",
        "plt.xlabel('Attacks on ',fontsize=20)\n",
        "plt.ylabel('Count ',fontsize=20)\n",
        "plt.title('Types of Attack', fontsize=25)"
      ],
      "execution_count": 107,
      "outputs": [
        {
          "output_type": "stream",
          "name": "stderr",
          "text": [
            "/usr/local/lib/python3.7/dist-packages/seaborn/_decorators.py:43: FutureWarning: Pass the following variable as a keyword arg: x. From version 0.12, the only valid positional argument will be `data`, and passing other arguments without an explicit keyword will result in an error or misinterpretation.\n",
            "  FutureWarning\n"
          ]
        },
        {
          "output_type": "execute_result",
          "data": {
            "text/plain": [
              "Text(0.5, 1.0, 'Types of Attack')"
            ]
          },
          "metadata": {},
          "execution_count": 107
        },
        {
          "output_type": "display_data",
          "data": {
            "image/png": "[encoded data removed]",
            "text/plain": [
              "<Figure size 1152x648 with 1 Axes>"
            ]
          },
          "metadata": {
            "needs_background": "light"
          }
        }
      ]
    },
    {
      "cell_type": "markdown",
      "metadata": {
        "id": "gjotn0M2UNIO"
      },
      "source": [
        "**Total Number of People killed in Terrorist Attacks**"
      ]
    },
    {
      "cell_type": "code",
      "metadata": {
        "id": "YNCl27ZuUUZq",
        "colab": {
          "base_uri": "https://localhost:8080/"
        },
        "outputId": "b765539c-31aa-4775-d872-722620f598ae"
      },
      "source": [
        "kill = df.loc[:, 'nkill']\n",
        "print('Total Number of People killed in Terrorist Attacks: ', int(sum(kill.dropna())))"
      ],
      "execution_count": 101,
      "outputs": [
        {
          "output_type": "stream",
          "name": "stdout",
          "text": [
            "Total Number of People killed in Terrorist Attacks:  89009\n"
          ]
        }
      ]
    },
    {
      "cell_type": "markdown",
      "metadata": {
        "id": "DZZgOWg8UYn4"
      },
      "source": [
        "**Different types of Terrorist Attacks**"
      ]
    },
    {
      "cell_type": "code",
      "metadata": {
        "id": "ClOOAlX-Ucfw",
        "colab": {
          "base_uri": "https://localhost:8080/"
        },
        "outputId": "9584dbda-6542-43b8-bf6b-9de6bdb4cf55"
      },
      "source": [
        "df1 = df.pivot_table(columns='attacktype1_txt', values='nkill',aggfunc='sum')\n",
        "print(df)"
      ],
      "execution_count": 102,
      "outputs": [
        {
          "output_type": "stream",
          "name": "stdout",
          "text": [
            "            eventid  iyear  imonth  iday  ... INT_MISC  INT_ANY related  casualties\n",
            "0      1.970000e+11   1970       7     2  ...      0.0      0.0     NaN         1.0\n",
            "1      1.970000e+11   1970       0     0  ...      1.0      1.0     NaN         0.0\n",
            "2      1.970000e+11   1970       1     0  ...      1.0      1.0     NaN         1.0\n",
            "3      1.970000e+11   1970       1     0  ...      1.0      1.0     NaN         0.0\n",
            "4      1.970000e+11   1970       1     0  ...      1.0      1.0     NaN         0.0\n",
            "...             ...    ...     ...   ...  ...      ...      ...     ...         ...\n",
            "48700  1.990000e+11   1991      10    22  ...      0.0      0.0     NaN         8.0\n",
            "48701  1.990000e+11   1991      10    22  ...      0.0      0.0     NaN         9.0\n",
            "48702  1.990000e+11   1991      10    22  ...      0.0      0.0     NaN         3.0\n",
            "48703  1.990000e+11   1991      10    22  ...      0.0      0.0     NaN         4.0\n",
            "48704  1.990000e+11   1991      10    22  ...      NaN      NaN     NaN         0.0\n",
            "\n",
            "[48705 rows x 136 columns]\n"
          ]
        }
      ]
    },
    {
      "cell_type": "markdown",
      "metadata": {
        "id": "2jaUbgPtUko3"
      },
      "source": [
        "**People Killed based on countries**"
      ]
    },
    {
      "cell_type": "code",
      "metadata": {
        "id": "ych7t5ptUtv5",
        "colab": {
          "base_uri": "https://localhost:8080/"
        },
        "outputId": "e13bdc2d-be0d-403f-e68c-763e08dd1605"
      },
      "source": [
        "df2 = df.pivot_table(columns='country', values='nkill', aggfunc='sum')\n",
        "print(df2)"
      ],
      "execution_count": 103,
      "outputs": [
        {
          "output_type": "stream",
          "name": "stdout",
          "text": [
            "country    4    5     6    7       8    ...  499  532     603   604   605\n",
            "nkill    237.0  0.0  23.0  0.0  1060.0  ...  2.0  0.0  2986.0  34.0  15.0\n",
            "\n",
            "[1 rows x 158 columns]\n"
          ]
        }
      ]
    },
    {
      "cell_type": "markdown",
      "metadata": {
        "id": "bKWMfFU3UwPh"
      },
      "source": [
        "**Top 10 terrorist groups**"
      ]
    },
    {
      "cell_type": "code",
      "metadata": {
        "id": "thVj-NuVUzDr",
        "colab": {
          "base_uri": "https://localhost:8080/"
        },
        "outputId": "6d78335b-ee73-4b5c-9fc9-1c94c67f60bf"
      },
      "source": [
        "df.gname.value_counts()[1:11]"
      ],
      "execution_count": 104,
      "outputs": [
        {
          "output_type": "execute_result",
          "data": {
            "text/plain": [
              "Shining Path (SL)                                   3969\n",
              "Farabundo Marti National Liberation Front (FMLN)    3276\n",
              "Irish Republican Army (IRA)                         2187\n",
              "Basque Fatherland and Freedom (ETA)                 1553\n",
              "Nicaraguan Democratic Force (FDN)                    895\n",
              "New People's Army (NPA)                              870\n",
              "Palestinians                                         836\n",
              "Manuel Rodriguez Patriotic Front (FPMR)              799\n",
              "Revolutionary Armed Forces of Colombia (FARC)        780\n",
              "National Liberation Army of Colombia (ELN)           704\n",
              "Name: gname, dtype: int64"
            ]
          },
          "metadata": {},
          "execution_count": 104
        }
      ]
    },
    {
      "cell_type": "markdown",
      "metadata": {
        "id": "HdmPHlOjU2Gw"
      },
      "source": [
        "# **Result:**\n",
        "---\n",
        "Highest Number of Attacks took place between **1983** & **1989** with over ***4000*** attacks.\n",
        "\n",
        "***Shining Path(SL)*** is the most active terrorist group.\n",
        "***Farabundo Marti National Liberation Front (FMLN)*** is yet another active group which is mostly active with ***(SL)***.\n",
        "\n",
        "Highest number of Terrorist attacks took place in ***Peru*** with ***El Salvador*** in the second place.\n",
        "\n",
        "Most frequent attack types were ***Bombing/Explosion*** & ***Armed Assault***.\n",
        "\n",
        "Most affected areas by Terrorist Attacks are ***Buisness*** & ***Private Citizens & Military & Government***\n"
      ]
    }
  ]
}